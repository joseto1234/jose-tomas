{
 "cells": [
  {
   "cell_type": "code",
   "execution_count": 10,
   "metadata": {},
   "outputs": [],
   "source": [
    "class vehiculo:\n",
    "    def _init_(self,tipo,ruedas):\n",
    "        \n",
    "        ultimo_auto=0\n",
    "        self.tipo=tipo\n",
    "        self.ruedas=ruedas\n",
    "        self.problemas=[]\n",
    "        self.atendido= False\n",
    "        self.numero_llegada=vehiculo.ultimo_auto\n",
    "        ultimo_auto+=1\n",
    "        \n",
    "    def atender(self):\n",
    "        if not self.atendido:\n",
    "            self.atendido= True\n",
    "        else:\n",
    "            print (\"auto ya fue atendido\")    \n",
    "    \n",
    "    def __call__(self,problema):\n",
    "        self.problemas.append(problema)"
   ]
  },
  {
   "cell_type": "code",
   "execution_count": 11,
   "metadata": {},
   "outputs": [],
   "source": [
    "class fila:\n",
    "    def _init_(self,mecanico):\n",
    "        numero=0\n",
    "        self.mecanico=mecanico\n",
    "        self.numero_llegada=numero_llegada\n",
    "        self.numero_llegada=fila.numero\n",
    "        numero+=1"
   ]
  },
  {
   "cell_type": "code",
   "execution_count": 12,
   "metadata": {},
   "outputs": [],
   "source": [
    "class taller:\n",
    "    def _init_(self,admin,numero_operadores):\n",
    "        self.admin=admin\n",
    "        self.numero_operadores=numero_operadores\n",
    "    def _str_(self):\n",
    "        return (\"el administrador a cargo es:\".format(self.modelo))"
   ]
  },
  {
   "cell_type": "code",
   "execution_count": 13,
   "metadata": {},
   "outputs": [],
   "source": [
    "class tipo1(vehiculo):\n",
    "    def _init_(self,marca,modelo,traccion,color):\n",
    "        self.marca=marca\n",
    "        self.modelo=modelo\n",
    "        self.traccion=traccion\n",
    "        self.color=color\n",
    "    def _str_(self):\n",
    "        return (\"el auto es un:\".format(self.modelo))\n",
    "        \n",
    "class tipo2(vehiculo):\n",
    "    def _init_(self,marca,modelo,traccion,color):\n",
    "        self.marca=marca\n",
    "        self.modelo=modelo\n",
    "        self.traccion=traccion\n",
    "        self.color=color\n",
    "    def _str_(self):\n",
    "        return (\"el auto es un:\".format(self.modelo))\n",
    "        \n",
    "class tipo3(vehiculo):\n",
    "    def _init_(self,marca,modelo,traccion,color):\n",
    "        self.marca=marca\n",
    "        self.modelo=modelo\n",
    "        self.traccion=traccion\n",
    "        self.color=color\n",
    "    def _str_(self):\n",
    "        return (\"el auto es un:\".format(self.modelo))"
   ]
  },
  {
   "cell_type": "code",
   "execution_count": null,
   "metadata": {},
   "outputs": [],
   "source": []
  }
 ],
 "metadata": {
  "kernelspec": {
   "display_name": "Python 3",
   "language": "python",
   "name": "python3"
  },
  "language_info": {
   "codemirror_mode": {
    "name": "ipython",
    "version": 3
   },
   "file_extension": ".py",
   "mimetype": "text/x-python",
   "name": "python",
   "nbconvert_exporter": "python",
   "pygments_lexer": "ipython3",
   "version": "3.6.4"
  }
 },
 "nbformat": 4,
 "nbformat_minor": 2
}
