{
 "cells": [
  {
   "cell_type": "code",
   "execution_count": 19,
   "metadata": {},
   "outputs": [
    {
     "name": "stdout",
     "output_type": "stream",
     "text": [
      "124241\n"
     ]
    }
   ],
   "source": [
    "def eliminar_duplicados_contiguos(n):\n",
    "    \n",
    "    #paso el valor introducido a string, para luego separarlo y meter los valores\n",
    "    #en la lista \n",
    "    n=str(n)\n",
    "    lista=[]\n",
    "    for i in n:\n",
    "        lista.append(i)\n",
    "        \n",
    "    #creo lista para dejar los numeros no repetidos\n",
    "    lista_ordenada=[]\n",
    "    #se une siempre el primero de los numeros y despues si el siguiente no se repita, \n",
    "    #entonces se une a una lista nueva el termino\n",
    "    for m in range(len(lista)):\n",
    "        if m==0:\n",
    "            lista_ordenada.append(lista[m])\n",
    "        else:\n",
    "            if lista[m-1]!=lista[m]:\n",
    "                lista_ordenada.append(lista[m])\n",
    "            else:\n",
    "                next\n",
    "    #se tarma la lista en string y luego se transforma en int\n",
    "    respuesta=\"\"\n",
    "    for r in lista_ordenada:\n",
    "        respuesta+=r\n",
    "    respuesta=int(respuesta)\n",
    "    return respuesta\n",
    "\n",
    "n=1242241\n",
    "n_=eliminar_duplicados_contiguos(n)\n",
    "print(n_)"
   ]
  },
  {
   "cell_type": "code",
   "execution_count": 38,
   "metadata": {},
   "outputs": [
    {
     "name": "stdout",
     "output_type": "stream",
     "text": [
      "\n",
      "124\n"
     ]
    }
   ],
   "source": [
    "def eliminar_duplicados(n):\n",
    "    n = str(n)\n",
    "    numeros = dict() # Crea un diccionario vacío para contabilizar las letras\n",
    "\n",
    "    for v in n:\n",
    "        if v not in numeros: # Revisa si v existe en el diccionario, si no la crea en 0\n",
    "            numeros[v] = 0\n",
    "\n",
    "        numeros[v] += 1 # si ya existe, agrega una cuenta mas\n",
    "    numero_nuevo=''\n",
    "    print()\n",
    "    for i in numeros: # por defecto recorremos las llaves\n",
    "        numero_nuevo+=i\n",
    "    numero_nuevo=int(numero_nuevo)\n",
    "    return numero_nuevo\n",
    "\n",
    "n=1242241\n",
    "n_=eliminar_duplicados(n)\n",
    "print (n_) \n",
    "\n",
    "#sacado de las clases subidas"
   ]
  },
  {
   "cell_type": "code",
   "execution_count": null,
   "metadata": {},
   "outputs": [],
   "source": []
  },
  {
   "cell_type": "code",
   "execution_count": null,
   "metadata": {},
   "outputs": [],
   "source": []
  }
 ],
 "metadata": {
  "kernelspec": {
   "display_name": "Python 3",
   "language": "python",
   "name": "python3"
  },
  "language_info": {
   "codemirror_mode": {
    "name": "ipython",
    "version": 3
   },
   "file_extension": ".py",
   "mimetype": "text/x-python",
   "name": "python",
   "nbconvert_exporter": "python",
   "pygments_lexer": "ipython3",
   "version": "3.6.4"
  }
 },
 "nbformat": 4,
 "nbformat_minor": 2
}
